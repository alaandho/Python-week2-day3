{
 "cells": [
  {
   "cell_type": "markdown",
   "metadata": {},
   "source": [
    "# Data Collections 2 (Dictionaries, Sets) and Importing Modules"
   ]
  },
  {
   "cell_type": "markdown",
   "metadata": {},
   "source": [
    "## Tasks Today:\n",
    "\n",
    "1) Dictionary <br>\n",
    " &nbsp;&nbsp;&nbsp;&nbsp; a) Declaring (key, value) <br>\n",
    " &nbsp;&nbsp;&nbsp;&nbsp; b) Accessing Values <br>\n",
    " &nbsp;&nbsp;&nbsp;&nbsp; ------ Exercise #1 - Print the eye color of each person in a double nested dict <br>\n",
    " &nbsp;&nbsp;&nbsp;&nbsp; c) Adding New Pairs <br>\n",
    " &nbsp;&nbsp;&nbsp;&nbsp; d) Modifying Values <br>\n",
    " &nbsp;&nbsp;&nbsp;&nbsp; e) Removing Key, Value Pairs <br>\n",
    " &nbsp;&nbsp;&nbsp;&nbsp; f) Looping a Dictionary <br>\n",
    " &nbsp;&nbsp;&nbsp;&nbsp; g) Looping Only Keys <br>\n",
    " &nbsp;&nbsp;&nbsp;&nbsp; h) Looping Only Values <br>\n",
    " &nbsp;&nbsp;&nbsp;&nbsp; ------ Exercise #2 - Create a Function that Prints All Key Value Pairs within a print .format()  <br>\n",
    " &nbsp;&nbsp;&nbsp;&nbsp; i) sorted() <br>\n",
    " &nbsp;&nbsp;&nbsp;&nbsp; j) Lists with Dictionaries <br>\n",
    " &nbsp;&nbsp;&nbsp;&nbsp; k) Dictionaries with Lists <br>\n",
    " &nbsp;&nbsp;&nbsp;&nbsp; l) Dictionaries with Dictionaries <br>\n",
    " &nbsp;&nbsp;&nbsp;&nbsp; ------ Exercise #3 - Write a Function that asks someone's name and address, and then stores that into a dictionary, which prints all names and addresses after they're done putting information in...  <br>\n",
    "2) Dictionaries vs. Lists (over time)<br>\n",
    "3) Set <br>\n",
    " &nbsp;&nbsp;&nbsp;&nbsp; a) Declaring <br>\n",
    " &nbsp;&nbsp;&nbsp;&nbsp; b) .add() <br>\n",
    " &nbsp;&nbsp;&nbsp;&nbsp; c) .remove() <br>\n",
    " &nbsp;&nbsp;&nbsp;&nbsp; d) .union() <br>\n",
    " &nbsp;&nbsp;&nbsp;&nbsp; e) .intersection() <br>\n",
    " &nbsp;&nbsp;&nbsp;&nbsp; f) .difference() <br>\n",
    " &nbsp;&nbsp;&nbsp;&nbsp; g) Frozen Set <br>\n",
    "4) Modules <br>\n",
    " &nbsp;&nbsp;&nbsp;&nbsp; a) Importing Entire Modules <br>\n",
    " &nbsp;&nbsp;&nbsp;&nbsp; b) Importing Methods Only <br>\n",
    " &nbsp;&nbsp;&nbsp;&nbsp; c) Using the 'as' Keyword <br>\n",
    " &nbsp;&nbsp;&nbsp;&nbsp; d) Creating a Module <br>\n",
    "5) Exercises <br>\n",
    " &nbsp;&nbsp;&nbsp;&nbsp; a) Build a Shopping Cart <br>\n",
    " &nbsp;&nbsp;&nbsp;&nbsp; b) Create Your Own Module <br>"
   ]
  },
  {
   "cell_type": "markdown",
   "metadata": {},
   "source": [
    "## Dictionary <br>\n",
    "<p>A collection of data with 'key:value' pairs. Dictionaries are ordered as of Python 3.6</p>"
   ]
  },
  {
   "cell_type": "markdown",
   "metadata": {},
   "source": [
    "##### Declaring (key, value)"
   ]
  },
  {
   "cell_type": "code",
   "execution_count": 2,
   "metadata": {},
   "outputs": [
    {
     "name": "stdout",
     "output_type": "stream",
     "text": [
      "{}\n",
      "{}\n",
      "{'dave': '225 Main St', 'sean': '522 1st St', 0: 'this is the value for the key of 0'}\n"
     ]
    }
   ],
   "source": [
    "# keys should be unique\n",
    "# can use numbers or strongs as keys\n",
    "\n",
    "d_1 = {}\n",
    "\n",
    "#or\n",
    "\n",
    "d_2 = dict()\n",
    "\n",
    "print(d_1)\n",
    "print(d_2)\n",
    "\n",
    "#or we can declare with key: value pairs\n",
    "\n",
    "d_3 = {\n",
    "    'dave' : '225 Main St',\n",
    "    'sean': '522 1st St',\n",
    "    0: 'this is the value for the key of 0'\n",
    "        }\n",
    "print(d_3)"
   ]
  },
  {
   "cell_type": "markdown",
   "metadata": {},
   "source": [
    "##### Accessing Values"
   ]
  },
  {
   "cell_type": "code",
   "execution_count": 3,
   "metadata": {},
   "outputs": [
    {
     "data": {
      "text/plain": [
       "'this is the value for the key of 0'"
      ]
     },
     "execution_count": 3,
     "metadata": {},
     "output_type": "execute_result"
    }
   ],
   "source": [
    "#dict[key]\n",
    "\n",
    "d_3['dave']\n",
    "d_3[0]"
   ]
  },
  {
   "cell_type": "markdown",
   "metadata": {},
   "source": [
    "## In-Class Exercise #1 - Print a formatted statement from the dictionary below <br>\n",
    "<p>The output should be '2018 Chevrolet Silverado'</p>"
   ]
  },
  {
   "cell_type": "code",
   "execution_count": 4,
   "metadata": {},
   "outputs": [
    {
     "name": "stdout",
     "output_type": "stream",
     "text": [
      "2018 Chevrolet Silverado\n"
     ]
    }
   ],
   "source": [
    "# use the dict below\n",
    "#My favorite car is the 2018 Chevrolet Silverado\n",
    "truck = {\n",
    "    'year': 2018,\n",
    "    'make': 'Chevrolet',\n",
    "    'model': 'Silverado'\n",
    "}\n",
    "print(f'{truck[\"year\"]} {truck[\"make\"]} {truck[\"model\"]}')"
   ]
  },
  {
   "cell_type": "markdown",
   "metadata": {},
   "source": [
    "##### Adding New Pairs"
   ]
  },
  {
   "cell_type": "code",
   "execution_count": 5,
   "metadata": {},
   "outputs": [
    {
     "data": {
      "text/plain": [
       "{'dave': '225 Main St',\n",
       " 'sean': '522 1st St',\n",
       " 0: 'this is the value for the key of 0',\n",
       " 'bob': '151 Main St'}"
      ]
     },
     "execution_count": 5,
     "metadata": {},
     "output_type": "execute_result"
    }
   ],
   "source": [
    "# dict[newkey] = value\n",
    "d_3['bob'] = '151 Main St'\n",
    "\n",
    "d_3"
   ]
  },
  {
   "cell_type": "markdown",
   "metadata": {},
   "source": [
    "##### Modifying Values"
   ]
  },
  {
   "cell_type": "code",
   "execution_count": 6,
   "metadata": {},
   "outputs": [
    {
     "data": {
      "text/plain": [
       "{'dave': '225 Main St',\n",
       " 'sean': '522 1st St',\n",
       " 0: 'this is the value for the key of 0',\n",
       " 'bob': '333 E Ontario St Chicago, IL'}"
      ]
     },
     "execution_count": 6,
     "metadata": {},
     "output_type": "execute_result"
    }
   ],
   "source": [
    "# dict[existingKey] = value\n",
    "\n",
    "d_3['bob'] = '222 W Ontario St'\n",
    "d_3\n",
    "\n",
    "placeholder = '333 E Ontario St'\n",
    "\n",
    "d_3['bob'] = placeholder + ' Chicago, IL'\n",
    "d_3"
   ]
  },
  {
   "cell_type": "markdown",
   "metadata": {},
   "source": [
    "##### Removing Key, Value Pairs"
   ]
  },
  {
   "cell_type": "code",
   "execution_count": 7,
   "metadata": {},
   "outputs": [
    {
     "name": "stdout",
     "output_type": "stream",
     "text": [
      "{'dave': '225 Main St', 'sean': '522 1st St', 0: 'this is the value for the key of 0', 'bob': '333 E Ontario St Chicago, IL'}\n"
     ]
    },
    {
     "data": {
      "text/plain": [
       "{'dave': '225 Main St',\n",
       " 'sean': '522 1st St',\n",
       " 0: 'this is the value for the key of 0'}"
      ]
     },
     "execution_count": 7,
     "metadata": {},
     "output_type": "execute_result"
    }
   ],
   "source": [
    "# del dict[key]\n",
    "print(d_3)\n",
    "del d_3['bob']\n",
    "d_3"
   ]
  },
  {
   "cell_type": "markdown",
   "metadata": {},
   "source": [
    "##### Looping a Dictionary"
   ]
  },
  {
   "cell_type": "code",
   "execution_count": 8,
   "metadata": {},
   "outputs": [
    {
     "name": "stdout",
     "output_type": "stream",
     "text": [
      "dave 225 Main St\n",
      "sean 522 1st St\n",
      "0 this is the value for the key of 0\n",
      "Name: dave \n",
      "Address: 225 Main St\n",
      "Name: sean \n",
      "Address: 522 1st St\n",
      "Name: 0 \n",
      "Address: this is the value for the key of 0\n",
      "('dave', '225 Main St')\n",
      "('sean', '522 1st St')\n",
      "(0, 'this is the value for the key of 0')\n",
      "dave\n",
      "sean\n",
      "0\n",
      "225 Main St\n",
      "522 1st St\n",
      "this is the value for the key of 0\n"
     ]
    }
   ],
   "source": [
    "# .items()\n",
    "# a, b, c = 1, 2, 3    #key equals next value\n",
    "#same as:\n",
    "#a=1, b=2, c=3\n",
    "# print(a)\n",
    "# print(b)\n",
    "# print(c)\n",
    "\n",
    "#most common/correct way to access key value pairs in dict\n",
    "\n",
    "d_3.items()  #dictionary set item\n",
    "\n",
    "for key, value in d_3.items():\n",
    "    print(key, value)\n",
    "    \n",
    "for key, value in d_3.items():\n",
    "    print(f'Name: {key} \\nAddress: {value}')\n",
    "    \n",
    "#another way\n",
    "\n",
    "for item in d_3.items():\n",
    "    print(item)\n",
    "    \n",
    "for item in d_3.items():\n",
    "    print(item[0])\n",
    "    \n",
    "for item in d_3.items():\n",
    "    print(item[1])"
   ]
  },
  {
   "cell_type": "markdown",
   "metadata": {},
   "source": [
    "##### Looping Only Keys"
   ]
  },
  {
   "cell_type": "code",
   "execution_count": 9,
   "metadata": {},
   "outputs": [
    {
     "name": "stdout",
     "output_type": "stream",
     "text": [
      "dave\n",
      "sean\n",
      "0\n"
     ]
    }
   ],
   "source": [
    "# .keys()\n",
    "    #correct wayfor key in d_3\n",
    "for k in d_3.keys():\n",
    "    print(k)"
   ]
  },
  {
   "cell_type": "markdown",
   "metadata": {},
   "source": [
    "##### Looping Only Values"
   ]
  },
  {
   "cell_type": "code",
   "execution_count": 10,
   "metadata": {},
   "outputs": [
    {
     "name": "stdout",
     "output_type": "stream",
     "text": [
      "225 Main St\n",
      "522 1st St\n",
      "this is the value for the key of 0\n"
     ]
    }
   ],
   "source": [
    "# .values()\n",
    "d_3.values()\n",
    "\n",
    "for value in d_3.values():\n",
    "    print(value)\n"
   ]
  },
  {
   "cell_type": "markdown",
   "metadata": {},
   "source": [
    "## In-Class Exercise #2 - Create a Function that Prints All Key Value Pairs within a print .format() <br>\n",
    "<p><b>Output should be:</b><br>\n",
    "Max has blue eyes<br>\n",
    "Lilly has brown eyes<br>\n",
    "Barney has blue eyes<br>\n",
    "etc.\n",
    "</p>"
   ]
  },
  {
   "cell_type": "code",
   "execution_count": 11,
   "metadata": {},
   "outputs": [
    {
     "name": "stdout",
     "output_type": "stream",
     "text": [
      "Max has blue eyes\n",
      "Dave has brown eyes\n",
      "Barney has blue eyes\n",
      "Larney has brown eyes\n",
      "Ted has purple eyes\n"
     ]
    },
    {
     "data": {
      "text/plain": [
       "dict_items([('Max', 'blue'), ('Dave', 'brown'), ('Barney', 'blue'), ('Larney', 'brown'), ('Ted', 'purple')])"
      ]
     },
     "execution_count": 11,
     "metadata": {},
     "output_type": "execute_result"
    }
   ],
   "source": [
    "# use the dict below\n",
    "\n",
    "people = {\n",
    "    'Max': 'blue',\n",
    "    'Dave': 'brown',\n",
    "    'Barney': 'blue',\n",
    "    'Larney': 'brown',\n",
    "    'Ted': 'purple'\n",
    "}\n",
    "\n",
    "def eyeColor(a_dict):                 #return will not be used during for loop\n",
    "    for key, value in a_dict.items():\n",
    "        print(f'{key} has {value} eyes')\n",
    "eyeColor(people)\n",
    "\n",
    "\n",
    "people.items()"
   ]
  },
  {
   "cell_type": "markdown",
   "metadata": {},
   "source": [
    "##### sorted()"
   ]
  },
  {
   "cell_type": "code",
   "execution_count": 12,
   "metadata": {},
   "outputs": [
    {
     "name": "stdout",
     "output_type": "stream",
     "text": [
      "[('Barney', 'blue'), ('Dave', 'brown'), ('Larney', 'brown'), ('Max', 'blue'), ('Ted', 'purple')]\n",
      "['Barney', 'Dave', 'Larney', 'Max', 'Ted']\n",
      "['blue', 'blue', 'brown', 'brown', 'purple']\n"
     ]
    }
   ],
   "source": [
    "# sorts variables in order\n",
    "# sorted(dict.values()) or dict.keys() or dict.items()\n",
    "\n",
    "print(sorted(people.items()))\n",
    "print(sorted(people.keys()))\n",
    "print(sorted(people.values()))"
   ]
  },
  {
   "cell_type": "markdown",
   "metadata": {},
   "source": [
    "##### List with Dictionaries"
   ]
  },
  {
   "cell_type": "code",
   "execution_count": 13,
   "metadata": {},
   "outputs": [
    {
     "name": "stdout",
     "output_type": "stream",
     "text": [
      "Barb\n",
      "Robert\n",
      "Robert\n",
      "Barb\n",
      "Dave\n",
      "Randy\n",
      "Greg\n",
      "Robert\n",
      "Barb\n"
     ]
    }
   ],
   "source": [
    "names = [\"Dave\", \"Randy\", \"Greg\", {\"random_guy\":\"Robert\", \"random_girl\":\"Barb\"}]\n",
    "\n",
    "print(names[3]['random_girl'])\n",
    "print(names[3]['random_guy'])\n",
    "\n",
    "#get all values in nested dict\n",
    "\n",
    "for v in names[3].values():\n",
    "    print(v)\n",
    "    \n",
    "\n",
    "#to list all names   \n",
    "for name in names:\n",
    "    if type(name) == str:          #string\n",
    "        print(name)\n",
    "    else:\n",
    "        print(name['random_guy'])      #dictionary\n",
    "        print(name['random_girl'])"
   ]
  },
  {
   "cell_type": "markdown",
   "metadata": {},
   "source": [
    "##### Dictionaries with Lists"
   ]
  },
  {
   "cell_type": "code",
   "execution_count": 14,
   "metadata": {},
   "outputs": [
    {
     "name": "stdout",
     "output_type": "stream",
     "text": [
      "7\n"
     ]
    },
    {
     "data": {
      "text/plain": [
       "'smith'"
      ]
     },
     "execution_count": 14,
     "metadata": {},
     "output_type": "execute_result"
    }
   ],
   "source": [
    "# be careful when using numbers as keys in dictionaries, don't confuse them with indexes\n",
    "random_data = {\n",
    "    'list1': [54,7,11],    \n",
    "    \"2\": ['smith']         #string\n",
    "}\n",
    "print(random_data['list1'][1])\n",
    "\n",
    "random_data['2'][0]"
   ]
  },
  {
   "cell_type": "markdown",
   "metadata": {},
   "source": [
    "##### Dictionaries with Dictionaries"
   ]
  },
  {
   "cell_type": "code",
   "execution_count": 15,
   "metadata": {},
   "outputs": [
    {
     "name": "stdout",
     "output_type": "stream",
     "text": [
      "5.99\n",
      "The CHO ice cream cost $2.99\n",
      "The VA ice cream cost $399\n",
      "The Oreo ice cream cost $5.99\n"
     ]
    }
   ],
   "source": [
    "# to get values, must traverse through keys\n",
    "\n",
    "food_dict = {\n",
    "    \"ice_cream\":{\n",
    "        \"CHO\": 2.99,\n",
    "        \"VA\": 399,\n",
    "        \"Oreo\": 5.99\n",
    "    },\n",
    "    \"pizza\":{\n",
    "        \"cheese\": 15,\n",
    "        \"pep\": 20\n",
    "    }\n",
    "}\n",
    "print(food_dict['ice_cream']['Oreo'])\n",
    "\n",
    "#getting k,v pairs from nested dict\n",
    "for k,v in food_dict ['ice_cream'].items():\n",
    "    print(f'The {k} ice cream cost ${v}')"
   ]
  },
  {
   "cell_type": "markdown",
   "metadata": {},
   "source": [
    "## Dictionaries vs. Lists (over time) Example of RUNTIME\n",
    "### When inputting values in a Dictionary vs List"
   ]
  },
  {
   "cell_type": "code",
   "execution_count": 16,
   "metadata": {},
   "outputs": [],
   "source": [
    "# import time\n",
    "\n",
    "\n",
    "# # generate fake dictionary\n",
    "# d = {}\n",
    "\n",
    "# for i in range(10000000):\n",
    "#     d[i] = 'value'\n",
    "    \n",
    "\n",
    "# # generate fake list\n",
    "# big_list = [x for x in range(10000000)]"
   ]
  },
  {
   "cell_type": "code",
   "execution_count": 17,
   "metadata": {},
   "outputs": [
    {
     "name": "stdout",
     "output_type": "stream",
     "text": [
      "value\n",
      "Elapsed time for dictionary: 0.0005171298980712891\n",
      "9999999\n",
      "Elapsed time for list: 1.0155699253082275\n"
     ]
    }
   ],
   "source": [
    "# tracking time for dictionary\n",
    "start_time = time.time()\n",
    "\n",
    "# print(d[9999999])\n",
    "\n",
    "end_time = time.time() - start_time\n",
    "\n",
    "print('Elapsed time for dictionary: {}'.format(end_time))\n",
    "\n",
    "\n",
    "# tracking time for list\n",
    "start_time = time.time()\n",
    "\n",
    "for i in range(len(big_list)):\n",
    "    if i == 9999999:\n",
    "        print(i)\n",
    "\n",
    "end_time = time.time() - start_time\n",
    "\n",
    "print('Elapsed time for list: {}'.format(end_time))"
   ]
  },
  {
   "cell_type": "markdown",
   "metadata": {},
   "source": [
    "## Exercise #3 - Write a Function that asks someone's name and address, and then stores that into a dictionary, and continues to do so until they choose to 'quit'. Once they quit, the program should print all names and addresses. <br>\n",
    "<p>\n",
    "<b>Proper steps:</b><br>\n",
    "step 1: write a function that takes in information and stores it in a dictionary<br>\n",
    "step 2: define an empty dictionary to work with<br>\n",
    "step 3: create our loop, which asks the user for information until they quit<br>\n",
    "step 4: ask for the information, and store it into variables<br>\n",
    "step 5: check if the user types quit<br>\n",
    "step 5a: print out all information<br>\n",
    "step 5b: break out of the loop<br>\n",
    "step 6: if they didn't quit, add the information to the dictionary<br>\n",
    "step 7: invoke the function by calling it\n",
    "</p>"
   ]
  },
  {
   "cell_type": "code",
   "execution_count": 19,
   "metadata": {},
   "outputs": [
    {
     "name": "stdout",
     "output_type": "stream",
     "text": [
      "Enter a name to store in address book(type 'quit to stop'):Ala\n",
      "Enter the address to be stored in address book (type 'quit' to stop):222 ny st.\n",
      "Enter a name to store in address book(type 'quit to stop'):quit\n",
      "Enter the address to be stored in address book (type 'quit' to stop):quit\n",
      "The address for Ala is 222 ny st.\n"
     ]
    }
   ],
   "source": [
    "from IPython.display import clear_output\n",
    "\n",
    "#step 1\n",
    "def storeInfo():\n",
    "    d = {}   #step 2\n",
    "    \n",
    "#step 3\n",
    "    while True:\n",
    "        name=input(\"Enter a name to store in address book(type 'quit to stop'):\") #step 4\n",
    "        address=input(\"Enter the address to be stored in address book (type 'quit' to stop):\")\n",
    "        \n",
    "#step 5\n",
    "        if name.lower() == 'quit' or address.lower() == 'quit':\n",
    "#step 5a\n",
    "            for key, value in d.items():\n",
    "                print(f'The address for {key} is {value}')\n",
    "#step 5b\n",
    "            break\n",
    "        d[name]= address   #part of steps 4 & 6\n",
    "storeInfo()"
   ]
  },
  {
   "cell_type": "markdown",
   "metadata": {},
   "source": [
    "## Set <br>\n",
    "<p>A Set is an unordered collection data type that is iterable (loop), mutable, and has no duplicate elements.<br>Major advantage is that it is highly optimized in checking if something is in the set, as opposed to checking if something is in a list.</p>"
   ]
  },
  {
   "cell_type": "markdown",
   "metadata": {},
   "source": [
    "##### Declaring"
   ]
  },
  {
   "cell_type": "code",
   "execution_count": 23,
   "metadata": {},
   "outputs": [
    {
     "data": {
      "text/plain": [
       "{2, 3, 4}"
      ]
     },
     "execution_count": 23,
     "metadata": {},
     "output_type": "execute_result"
    }
   ],
   "source": [
    "# set() or {}\n",
    "# no order {3, 2, 1} outputs as {1, 2, 3}\n",
    "\n",
    "set_1 = {4,3,2}\n",
    "set_2 = set()\n",
    "set_1"
   ]
  },
  {
   "cell_type": "markdown",
   "metadata": {},
   "source": [
    "##### .add()"
   ]
  },
  {
   "cell_type": "code",
   "execution_count": 28,
   "metadata": {},
   "outputs": [
    {
     "data": {
      "text/plain": [
       "{2, 2.5, 3, 4, 12}"
      ]
     },
     "execution_count": 28,
     "metadata": {},
     "output_type": "execute_result"
    }
   ],
   "source": [
    "# set.add()\n",
    "set_1.add(2.5)\n",
    "set_1.add(12)\n",
    "set_1\n"
   ]
  },
  {
   "cell_type": "markdown",
   "metadata": {},
   "source": [
    "##### .remove()"
   ]
  },
  {
   "cell_type": "code",
   "execution_count": 29,
   "metadata": {},
   "outputs": [
    {
     "data": {
      "text/plain": [
       "{2, 3, 4}"
      ]
     },
     "execution_count": 29,
     "metadata": {},
     "output_type": "execute_result"
    }
   ],
   "source": [
    "# removes by value\n",
    "# set.remove()\n",
    "# nums.remove(56)\n",
    "\n",
    "set_1.remove(2.5)\n",
    "set_1.remove(12)\n",
    "set_1"
   ]
  },
  {
   "cell_type": "markdown",
   "metadata": {},
   "source": [
    "##### .union() "
   ]
  },
  {
   "cell_type": "code",
   "execution_count": 35,
   "metadata": {},
   "outputs": [
    {
     "name": "stdout",
     "output_type": "stream",
     "text": [
      "{1, 2, 3, 4, 5, 6}\n",
      "{1, 2, 3, 4, 5, 6, 9, 10, 11}\n",
      "{1, 2, 3, 4, 5, 6}\n"
     ]
    }
   ],
   "source": [
    "# Returns a union of two sets, can also use '|' or set.union(set)\n",
    "# joins all numbers, gets rid of duplicates\n",
    "s_1 = {1,2,3,4}\n",
    "s_2 = {3,4,5,6}\n",
    "\n",
    "s3 = s_1.union(s_2)\n",
    "print(s3)\n",
    "\n",
    "\n",
    "s_1 = {1,2,3,4}\n",
    "s_2 = {3,4,5,6}\n",
    "s_3 = {9,10,11,3}\n",
    "\n",
    "s4 = s_1.union(s_2, s_3)\n",
    "print(s4)\n",
    "\n",
    "# or\n",
    "\n",
    "s5 = s_1 | s_2\n",
    "print(s5)"
   ]
  },
  {
   "cell_type": "markdown",
   "metadata": {},
   "source": [
    "##### .intersection()"
   ]
  },
  {
   "cell_type": "code",
   "execution_count": 38,
   "metadata": {},
   "outputs": [
    {
     "name": "stdout",
     "output_type": "stream",
     "text": [
      "{3, 4}\n",
      "{3, 4}\n"
     ]
    }
   ],
   "source": [
    "# Returns an intersection of two sets, can also use '&'\n",
    "# only takes similar elements from both sets\n",
    "s_6 = s_1 & s_2\n",
    "print(s_6)\n",
    "\n",
    "s_7 = s_1.intersection(s_2)\n",
    "print(s_7)"
   ]
  },
  {
   "cell_type": "markdown",
   "metadata": {},
   "source": [
    "##### .difference()"
   ]
  },
  {
   "cell_type": "code",
   "execution_count": 40,
   "metadata": {},
   "outputs": [
    {
     "name": "stdout",
     "output_type": "stream",
     "text": [
      "{1, 2}\n",
      "{5, 6}\n"
     ]
    }
   ],
   "source": [
    "# Returns a set containing all the elements of invoking set that are not in the second set, can also use '-'\n",
    "# only takes values from the first set that are not in the second set\n",
    "# order matters\n",
    "s_1 = {1,2,3,4}\n",
    "s_2 = {3,4,5,6}\n",
    "\n",
    "s_3 = s_1.difference(s_2)   #grabs difference on the invoking set\n",
    "print(s_3)\n",
    "\n",
    "s_4 = s_2.difference(s_1)\n",
    "print(s_4)"
   ]
  },
  {
   "cell_type": "markdown",
   "metadata": {},
   "source": [
    "##### .clear()"
   ]
  },
  {
   "cell_type": "code",
   "execution_count": 41,
   "metadata": {},
   "outputs": [
    {
     "name": "stdout",
     "output_type": "stream",
     "text": [
      "{1, 2, 3, 4, 5, 6, 9, 10, 11}\n",
      "set()\n"
     ]
    }
   ],
   "source": [
    "# Empties the whole set\n",
    "# set.clear()\n",
    "print(s4)     #takes whats passed in\n",
    "s4.clear()\n",
    "print(s4)     #clears it"
   ]
  },
  {
   "cell_type": "markdown",
   "metadata": {},
   "source": [
    "##### Frozenset <br>\n",
    "<p>Frozen sets are immutable objects that only support methods and operators that produce a result without affecting the frozen set or sets to which they are applied.</p><br><b>Unique & Immutable</b>"
   ]
  },
  {
   "cell_type": "code",
   "execution_count": 44,
   "metadata": {},
   "outputs": [
    {
     "name": "stdout",
     "output_type": "stream",
     "text": [
      "frozenset({3, 4, 5, 6})\n"
     ]
    }
   ],
   "source": [
    "# frozenset([])\n",
    "my_frozenset = frozenset(s_2)\n",
    "\n",
    "print(my_frozenset)\n",
    "\n",
    "#This will cause an error bc frozen set connot be altered\n",
    "my_frozenset.add(50)"
   ]
  },
  {
   "cell_type": "markdown",
   "metadata": {},
   "source": [
    "## Modules"
   ]
  },
  {
   "cell_type": "markdown",
   "metadata": {},
   "source": [
    "##### Importing Entire Modules"
   ]
  },
  {
   "cell_type": "code",
   "execution_count": 49,
   "metadata": {},
   "outputs": [
    {
     "name": "stdout",
     "output_type": "stream",
     "text": [
      "3.141592653589793\n",
      "3\n",
      "4\n"
     ]
    }
   ],
   "source": [
    "# import or from 'xxx' import *\n",
    "import math\n",
    "\n",
    "print(math.pi)\n",
    "\n",
    "print(math.floor(math.pi))\n",
    "print(math.ceil(math.pi))\n",
    "\n",
    "#floor is function and expecting math.pi to pass in\n",
    "#math.pi is a constant\n",
    "#.floor dounds up\n",
    "#.ceil rounds down"
   ]
  },
  {
   "cell_type": "markdown",
   "metadata": {},
   "source": [
    "##### Importing Methods Only"
   ]
  },
  {
   "cell_type": "code",
   "execution_count": 50,
   "metadata": {},
   "outputs": [
    {
     "name": "stdout",
     "output_type": "stream",
     "text": [
      "3.141592653589793\n",
      "3\n"
     ]
    }
   ],
   "source": [
    "# from 'xxx' import 'xxx'\n",
    "# from math import floor\n",
    "from math import pi, floor   #imported pi directly from math\n",
    "\n",
    "print(pi)           #don't need to call math again, print(math.pi)\n",
    "print(floor(pi))\n"
   ]
  },
  {
   "cell_type": "markdown",
   "metadata": {},
   "source": [
    "##### Using the 'as' Keyword"
   ]
  },
  {
   "cell_type": "code",
   "execution_count": 53,
   "metadata": {},
   "outputs": [
    {
     "name": "stdout",
     "output_type": "stream",
     "text": [
      "50\n",
      "3\n"
     ]
    }
   ],
   "source": [
    "# from 'xxx' import 'xxx' as 'xxx' or import 'xxx' as 'xxx'\n",
    "from math import floor as f\n",
    "print(f(50.5))\n",
    "\n",
    "from math import floor as f, pi as p\n",
    "print(f(p))"
   ]
  },
  {
   "cell_type": "markdown",
   "metadata": {},
   "source": [
    "##### Creating a Module"
   ]
  },
  {
   "cell_type": "code",
   "execution_count": 1,
   "metadata": {},
   "outputs": [
    {
     "name": "stdout",
     "output_type": "stream",
     "text": [
      "3.141592653589793\n"
     ]
    }
   ],
   "source": [
    "import module\n",
    "\n",
    "module.printPi()"
   ]
  },
  {
   "cell_type": "markdown",
   "metadata": {},
   "source": [
    "# Exercises"
   ]
  },
  {
   "cell_type": "markdown",
   "metadata": {},
   "source": [
    "### 1) Build a Shopping Cart <br>\n",
    "<p><b>You can use either lists or dictionaries. The program should have the following capabilities:</b><br><br>\n",
    "1) Takes in input <br>\n",
    "2) Stores user input into a dictionary or list <br>\n",
    "3) The User can add or delete items <br>\n",
    "4) The User can see current shopping list <br>\n",
    "5) The program Loops until user 'quits' <br>\n",
    "6) Upon quiting the program, print out all items in the user's list <br>\n",
    "</p>"
   ]
  },
  {
   "cell_type": "code",
   "execution_count": 6,
   "metadata": {},
   "outputs": [
    {
     "name": "stdout",
     "output_type": "stream",
     "text": [
      "Would you like to add/show/delete or quit?add\n",
      "Enter what was added, type show to see list or type quit to stop)apples\n",
      "Would you like to add/show/delete or quit?add\n",
      "Enter what was added, type show to see list or type quit to stop)rice\n",
      "Would you like to add/show/delete or quit?add\n",
      "Enter what was added, type show to see list or type quit to stop)show\n",
      "Would you like to add/show/delete or quit?show\n",
      "['apples', 'rice', 'show']\n",
      "Would you like to add/show/delete or quit?delete\n",
      "Would you like to add/show/delete or quit?show\n",
      "['apples', 'rice']\n",
      "Would you like to add/show/delete or quit?quit\n"
     ]
    },
    {
     "data": {
      "text/plain": [
       "['apples', 'rice']"
      ]
     },
     "execution_count": 6,
     "metadata": {},
     "output_type": "execute_result"
    }
   ],
   "source": [
    "from IPython.display import clear_output\n",
    "\n",
    "# Ask the user four bits of input: Do you want to : Show/Add/Delete or Quit?\n",
    "\n",
    "# def shopCart():\n",
    "#     c = {}\n",
    "#     while True:\n",
    "#         need=input(\"What groceries will you add to cart? (type quit to stop): \")\n",
    "#         cost=input(\"How many do you need? (type quit to stop)?: \")\n",
    "        \n",
    "        \n",
    "#         if need.lower() == 'quit' or cost.lower() == 'quit':\n",
    "            \n",
    "#             for key, value in c.items():\n",
    "#                 print(f'I have {key} of {value}')\n",
    "#             break  \n",
    "        \n",
    "#         c[need] = cost\n",
    "\n",
    "# shopCart()   \n",
    "                      \n",
    "                      \n",
    "#define function of shopCart\n",
    "#creating an empty dictionary                      \n",
    "#while anything in there is True\n",
    "#variable need is defining the input question\" \"\n",
    "#if need.lower is equal to quit or cost.lower is equal to quit\n",
    "#for every key, value in set items\n",
    "#print format string the contains the key and value\n",
    "#then stop when the variable is equal to quit                     \n",
    "#the variable defines what goes into dictionary\n",
    "#call the function finishes                      \n",
    "                      \n",
    "\n",
    "def shopCart():\n",
    "    c = []\n",
    "    while True:\n",
    "        cart = input(\"Would you like to add/show/delete or quit?\")\n",
    "        \n",
    "        if cart.lower() == 'add':\n",
    "            list_c = input(\"Enter what was added, type 'show' to see list or type 'quit' to stop)\")\n",
    "            c.append(list_c)\n",
    "    \n",
    "        elif cart.lower() == 'show':\n",
    "            print(c)\n",
    "        \n",
    "        elif cart.lower() == 'delete':\n",
    "            c.remove(list_c)\n",
    "        \n",
    "        elif cart.lower() == 'quit':\n",
    "            return c\n",
    "        \n",
    "shopCart()\n",
    "                      \n",
    "#if cart is equal to add\n",
    "#one the question is answered the answer it added to the empty list "
   ]
  },
  {
   "cell_type": "markdown",
   "metadata": {},
   "source": [
    "### 2) Create a Module in VS Code and Import It into jupyter notebook <br>\n",
    "<p><b>Module should have the following capabilities:</b><br><br>\n",
    "1) Has a function to calculate the square footage of a house <br>\n",
    "    <b>Reminder of Formula: Length X Width == Area<br>\n",
    "        <hr>\n",
    "2) Has a function to calculate the circumference of a circle <br><br>\n",
    "<b>Program in Jupyter Notebook should take in user input and use imported functions to calculate a circle's circumference or a houses square footage</b>\n",
    "</p>"
   ]
  },
  {
   "cell_type": "code",
   "execution_count": 1,
   "metadata": {},
   "outputs": [
    {
     "name": "stdout",
     "output_type": "stream",
     "text": [
      "200\n",
      "50.26548245743669\n"
     ]
    }
   ],
   "source": [
    "#given a radius\n",
    "#import math\n",
    "#import math into a module \n",
    "\n",
    "import module\n",
    "module.printArea(10,20)\n",
    "\n",
    "module.printRad(8)"
   ]
  },
  {
   "cell_type": "code",
   "execution_count": null,
   "metadata": {},
   "outputs": [],
   "source": []
  }
 ],
 "metadata": {
  "kernelspec": {
   "display_name": "Python 3",
   "language": "python",
   "name": "python3"
  },
  "language_info": {
   "codemirror_mode": {
    "name": "ipython",
    "version": 3
   },
   "file_extension": ".py",
   "mimetype": "text/x-python",
   "name": "python",
   "nbconvert_exporter": "python",
   "pygments_lexer": "ipython3",
   "version": "3.8.8"
  }
 },
 "nbformat": 4,
 "nbformat_minor": 2
}
